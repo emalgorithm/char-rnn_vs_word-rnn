{
 "cells": [
  {
   "cell_type": "code",
   "execution_count": null,
   "metadata": {},
   "outputs": [],
   "source": [
    "# time per epoch\n",
    "\n",
    "# char\n",
    "# - 100000: 20s\n",
    "# - 500000: 60s\n",
    "# - 1000000: 76s\n",
    "# - 5000000: 385s\n",
    "\n",
    "\n",
    "# word\n",
    "# - 100000: 3s\n",
    "# - 500000: 30s\n",
    "# - 1000000: 52s\n",
    "# - 5000000: 51s"
   ]
  },
  {
   "cell_type": "code",
   "execution_count": null,
   "metadata": {},
   "outputs": [],
   "source": [
    "# memory usage\n",
    "\n",
    "# char\n",
    "# - 100000: 1.83GBX\n",
    "# - 500000: 1.83GB\n",
    "# - 1000000: 1.83GBX\n",
    "# - 5000000: 1.83GBX\n",
    "\n",
    "\n",
    "# word\n",
    "# - 100000: 1.83GBX\n",
    "# - 500000: 6.033GB\n",
    "# - 1000000: 1.83GBX\n",
    "# - 5000000: 1.83GBX"
   ]
  },
  {
   "cell_type": "code",
   "execution_count": null,
   "metadata": {},
   "outputs": [],
   "source": [
    "import pickle\n",
    "import matplotlib.pyplot as plt\n",
    "import math\n",
    "import matplotlib\n",
    "import pylab\n",
    "import numpy as np"
   ]
  },
  {
   "cell_type": "code",
   "execution_count": null,
   "metadata": {},
   "outputs": [],
   "source": [
    "sizess = ['100000', '500000' ,'1M']"
   ]
  },
  {
   "cell_type": "code",
   "execution_count": null,
   "metadata": {},
   "outputs": [],
   "source": [
    "norm_frac = 1000000 / 210000"
   ]
  },
  {
   "cell_type": "code",
   "execution_count": null,
   "metadata": {},
   "outputs": [],
   "source": [
    "history = {}\n",
    "history['char_100000'] = pickle.load(open('results/shakespeare_charlevel_100000_50epochs_history.txt', 'rb'))\n",
    "history['char_500000'] = pickle.load(open('results/shakespeare_charlevel_500000_50epochs_history.txt', 'rb'))\n",
    "history['char_1M'] = pickle.load(open('results/shakespeare_charlevel_1M_50epochs_history.txt', 'rb'))\n",
    "\n",
    "history['word_100000'] = pickle.load(open('results/shakespeare_wordlevel_100000_50epochs_history.txt', 'rb'))\n",
    "history['word_500000'] = pickle.load(open('results/shakespeare_wordlevel_500000_50epochs_history.txt', 'rb'))\n",
    "history['word_1M'] = pickle.load(open('results/shakespeare_wordlevel_1M_50epochs_history.txt', 'rb'))\n",
    "\n",
    "history['word_small_100000'] = pickle.load(open('results/shakespeare_wordlevel_100000_50epochs_small_history.txt', 'rb'))\n",
    "history['word_small_500000'] = pickle.load(open('results/shakespeare_wordlevel_500000_50epochs_small_history.txt', 'rb'))\n",
    "history['word_small_1M'] = pickle.load(open('results/shakespeare_wordlevel_1M_50epochs_small_history.txt', 'rb'))"
   ]
  },
  {
   "cell_type": "code",
   "execution_count": null,
   "metadata": {},
   "outputs": [],
   "source": [
    "history['word_small_1M']"
   ]
  },
  {
   "cell_type": "code",
   "execution_count": null,
   "metadata": {},
   "outputs": [],
   "source": [
    "# history['char_5M']['val_loss'] = history['char_5M']['val_loss'][:13] + [1.58, 1.6, 1.54, 1.56, 1.6, 1.57, 1.54]\n",
    "# history['char_5M']['loss'] = history['char_5M']['loss'][:13] + [1.57, 1.59, 1.53, 1.55, 1.58, 1.55, 1.52]"
   ]
  },
  {
   "cell_type": "code",
   "execution_count": null,
   "metadata": {},
   "outputs": [],
   "source": [
    "with matplotlib.rc_context({'figure.figsize': [15, 10], 'axes.titlesize': 10}):\n",
    "    fig = plt.figure()\n",
    "    for i, size in enumerate(sizess):\n",
    "        ax = fig.add_subplot(2, 2, i+1)  # 2 rows of panels, 3 columns\n",
    "        ax.plot((np.array(history['char_{}'.format(size)]['val_loss']) * norm_frac), label='validation perplexity')\n",
    "        ax.plot((np.array(history['char_{}'.format(size)]['loss']) * norm_frac), label='training perplexity')\n",
    "#         ax.set_xticks(range(0, 50))\n",
    "        ax.legend()\n",
    "#         ax.title('char-rnn training and validation perplexity\\n on 100000 characthers')\n",
    "        ax.set_ylabel('Log Perplexity')\n",
    "        ax.set_xlabel('Epochs')\n",
    "        ax.set_title('char-rnn training and validation perplexity\\n on {} characthers'.format(size))\n",
    "    fig.subplots_adjust(left=0.1, right=0.9, top=1.1, bottom=0.1)\n",
    "    pylab.savefig('plots/char_val_train_perplexity.pdf', bbox_inches='tight')  "
   ]
  },
  {
   "cell_type": "code",
   "execution_count": null,
   "metadata": {},
   "outputs": [],
   "source": [
    "with matplotlib.rc_context({'figure.figsize': [15, 10], 'axes.titlesize': 10}):\n",
    "    fig = plt.figure()\n",
    "    for i, size in enumerate(sizess):\n",
    "        ax = fig.add_subplot(2, 2, i+1)  # 2 rows of panels, 3 columns\n",
    "        ax.plot(np.array(history['word_{}'.format(size)]['val_loss']), label='validation perplexity')\n",
    "        ax.plot(np.array(history['word_{}'.format(size)]['loss']), label='training perplexity')\n",
    "        ax.legend()\n",
    "#         ax.title('char-rnn training and validation perplexity\\n on 100000 characthers')\n",
    "        ax.set_ylabel('Log Perplexity')\n",
    "        ax.set_xlabel('Epochs')\n",
    "        ax.set_title('word-rnn training and validation perplexity\\n on {} characthers'.format(size))\n",
    "    fig.subplots_adjust(left=0.1, right=0.9, top=1.1, bottom=0.1)\n",
    "    pylab.savefig('plots/word_val_train_perplexity.pdf', bbox_inches='tight')  "
   ]
  },
  {
   "cell_type": "code",
   "execution_count": null,
   "metadata": {},
   "outputs": [],
   "source": [
    "with matplotlib.rc_context({'figure.figsize': [15, 10], 'axes.titlesize': 10}):\n",
    "    fig = plt.figure()\n",
    "    for i, size in enumerate(sizess):\n",
    "        ax = fig.add_subplot(2, 2, i+1)  # 2 rows of panels, 3 columns\n",
    "        ax.plot(np.array(history['word_small_{}'.format(size)]['val_loss']), label='validation perplexity')\n",
    "        ax.plot(np.array(history['word_small_{}'.format(size)]['loss']), label='training perplexity')\n",
    "        ax.legend()\n",
    "#         ax.title('char-rnn training and validation perplexity\\n on 100000 characthers')\n",
    "        ax.set_ylabel('Log Perplexity')\n",
    "        ax.set_xlabel('Epochs')\n",
    "        ax.set_title('word-rnn-small training and validation perplexity\\n on {} characthers'.format(size))\n",
    "    fig.subplots_adjust(left=0.1, right=0.9, top=1.1, bottom=0.1)\n",
    "    pylab.savefig('plots/word_small_val_train_perplexity.pdf', bbox_inches='tight')  "
   ]
  },
  {
   "cell_type": "code",
   "execution_count": null,
   "metadata": {},
   "outputs": [],
   "source": []
  },
  {
   "cell_type": "code",
   "execution_count": null,
   "metadata": {},
   "outputs": [],
   "source": [
    "val_perplexity = {}\n",
    "val_perplexity['word'] = {size: np.min(history['word_{}'.format(size)]['val_loss']) for size in sizess}\n",
    "val_perplexity['word_small'] = {size: np.min(history['word_small_{}'.format(size)]['val_loss']) for size in sizess}\n",
    "val_perplexity['char'] = {size: (np.min(history['char_{}'.format(size)]['val_loss']) * norm_frac) for size in sizess}"
   ]
  },
  {
   "cell_type": "code",
   "execution_count": null,
   "metadata": {},
   "outputs": [],
   "source": [
    "val_perplexity['word']"
   ]
  },
  {
   "cell_type": "code",
   "execution_count": null,
   "metadata": {},
   "outputs": [],
   "source": [
    "2 ** np.array(list(val_perplexity['word'].values()))"
   ]
  },
  {
   "cell_type": "code",
   "execution_count": null,
   "metadata": {},
   "outputs": [],
   "source": [
    "val_perplexity['word_small']"
   ]
  },
  {
   "cell_type": "code",
   "execution_count": null,
   "metadata": {},
   "outputs": [],
   "source": [
    "2 ** np.array(list(val_perplexity['word_small'].values()))"
   ]
  },
  {
   "cell_type": "code",
   "execution_count": null,
   "metadata": {},
   "outputs": [],
   "source": [
    "val_perplexity['char']"
   ]
  },
  {
   "cell_type": "code",
   "execution_count": null,
   "metadata": {},
   "outputs": [],
   "source": [
    "2 ** np.array(list(val_perplexity['char'].values()))"
   ]
  },
  {
   "cell_type": "code",
   "execution_count": null,
   "metadata": {},
   "outputs": [],
   "source": [
    "fig = plt.figure()\n",
    "plt.plot(val_perplexity['word'].values(), label='word-rnn validation perplexity')\n",
    "plt.plot(val_perplexity['word_small'].values(), label='word-rnn-small validation perplexity')\n",
    "plt.plot(val_perplexity['char'].values(), label='char-rnn validation perplexity')\n",
    "plt.xticks((0, 1, 2), labels=val_perplexity['word'].keys())\n",
    "plt.legend()\n",
    "plt.ylabel('Log Perplexity')\n",
    "plt.xlabel('Data set size (num of chars)')\n",
    "plt.title('word-rnn and char-rnn validation perplexity as a function of dataset size'.format(size))\n",
    "pylab.savefig('plots/word_char_val_perplexity.pdf', bbox_inches='tight') "
   ]
  },
  {
   "cell_type": "code",
   "execution_count": null,
   "metadata": {},
   "outputs": [],
   "source": [
    "fig = plt.figure()\n",
    "plt.plot(val_perplexity['char'].values(), label='validation perplexity')\n",
    "plt.xticks((0, 1, 2, 3), labels=val_perplexity['char'].keys())\n",
    "plt.legend()\n",
    "plt.ylabel('Perplexity')\n",
    "plt.xlabel('Data set size (num of chars)')\n",
    "plt.title('char-rnn validation perplexity as a function of dataset size'.format(size))\n",
    "pylab.savefig('plots/word_val_train_perplexity.pdf', bbox_inches='tight') "
   ]
  },
  {
   "cell_type": "markdown",
   "metadata": {},
   "source": [
    "# Finnish"
   ]
  },
  {
   "cell_type": "code",
   "execution_count": null,
   "metadata": {},
   "outputs": [],
   "source": [
    "finnish = {}\n",
    "finnish['char_1M'] = pickle.load(open('results/finnish_charlevel_1M_20epochs_history.txt', 'rb'))\n",
    "\n",
    "finnish['word_1M'] = pickle.load(open('results/finnish_wordlevel_1M_50epochs_history.txt', 'rb'))\n",
    "\n",
    "finnish['word_small_1M'] = pickle.load(open('results/finnish_wordlevel_1M_50epochs_small_history.txt', 'rb'))"
   ]
  },
  {
   "cell_type": "code",
   "execution_count": null,
   "metadata": {},
   "outputs": [],
   "source": [
    "val_perplexity = {}\n",
    "val_perplexity['word'] = {size: np.min(finnish['word_{}'.format(size)]['val_loss']) for size in ['1M']}\n",
    "val_perplexity['word_small'] = {size: np.min(finnish['word_small_{}'.format(size)]['val_loss']) for size in ['1M']}\n",
    "val_perplexity['char'] = {size: (np.min(finnish['char_{}'.format(size)]['val_loss']) * norm_frac) for size in ['1M']} "
   ]
  },
  {
   "cell_type": "code",
   "execution_count": null,
   "metadata": {},
   "outputs": [],
   "source": [
    "val_perplexity['word']"
   ]
  },
  {
   "cell_type": "code",
   "execution_count": null,
   "metadata": {},
   "outputs": [],
   "source": [
    "2 ** np.array(list(val_perplexity['word'].values()))"
   ]
  },
  {
   "cell_type": "code",
   "execution_count": null,
   "metadata": {},
   "outputs": [],
   "source": [
    "val_perplexity['word_small']"
   ]
  },
  {
   "cell_type": "code",
   "execution_count": null,
   "metadata": {},
   "outputs": [],
   "source": [
    "2 ** np.array(list(val_perplexity['word_small'].values()))"
   ]
  },
  {
   "cell_type": "code",
   "execution_count": null,
   "metadata": {},
   "outputs": [],
   "source": [
    "val_perplexity['char']"
   ]
  },
  {
   "cell_type": "code",
   "execution_count": null,
   "metadata": {},
   "outputs": [],
   "source": []
  },
  {
   "cell_type": "code",
   "execution_count": null,
   "metadata": {},
   "outputs": [],
   "source": [
    "2 ** np.array(list(val_perplexity['char'].values()))"
   ]
  },
  {
   "cell_type": "code",
   "execution_count": null,
   "metadata": {},
   "outputs": [],
   "source": []
  }
 ],
 "metadata": {
  "kernelspec": {
   "display_name": "le101",
   "language": "python",
   "name": "le101"
  },
  "language_info": {
   "codemirror_mode": {
    "name": "ipython",
    "version": 3
   },
   "file_extension": ".py",
   "mimetype": "text/x-python",
   "name": "python",
   "nbconvert_exporter": "python",
   "pygments_lexer": "ipython3",
   "version": "3.6.4"
  }
 },
 "nbformat": 4,
 "nbformat_minor": 2
}
